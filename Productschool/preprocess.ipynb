{
 "cells": [
  {
   "cell_type": "code",
   "execution_count": 1,
   "metadata": {},
   "outputs": [],
   "source": [
    "import pandas as pd\n",
    "from datetime import datetime\n",
    "from pytz import timezone\n",
    "import pytz"
   ]
  },
  {
   "cell_type": "markdown",
   "metadata": {},
   "source": [
    "## Read CSV Data"
   ]
  },
  {
   "cell_type": "code",
   "execution_count": 2,
   "metadata": {},
   "outputs": [
    {
     "data": {
      "text/html": [
       "<div>\n",
       "<style scoped>\n",
       "    .dataframe tbody tr th:only-of-type {\n",
       "        vertical-align: middle;\n",
       "    }\n",
       "\n",
       "    .dataframe tbody tr th {\n",
       "        vertical-align: top;\n",
       "    }\n",
       "\n",
       "    .dataframe thead th {\n",
       "        text-align: right;\n",
       "    }\n",
       "</style>\n",
       "<table border=\"1\" class=\"dataframe\">\n",
       "  <thead>\n",
       "    <tr style=\"text-align: right;\">\n",
       "      <th></th>\n",
       "      <th>Title</th>\n",
       "      <th>Link</th>\n",
       "      <th>Image</th>\n",
       "      <th>Description</th>\n",
       "    </tr>\n",
       "  </thead>\n",
       "  <tbody>\n",
       "    <tr>\n",
       "      <th>0</th>\n",
       "      <td>Product Management Live Chat by Booking.com PM</td>\n",
       "      <td>https://www.eventbrite.com/e/product-managemen...</td>\n",
       "      <td>https://assets.productschool.com/wp-content/up...</td>\n",
       "      <td>['Allen Foster Pushparaj', 'Thursday, June 18t...</td>\n",
       "    </tr>\n",
       "    <tr>\n",
       "      <th>1</th>\n",
       "      <td>Webinar: Building Great Relationships With You...</td>\n",
       "      <td>https://www.eventbrite.com/e/webinar-building-...</td>\n",
       "      <td>https://assets.productschool.com/wp-content/up...</td>\n",
       "      <td>['Jean-Pierre Pequito', 'Thursday, June 18th, ...</td>\n",
       "    </tr>\n",
       "    <tr>\n",
       "      <th>2</th>\n",
       "      <td>Webinar: How to be More Effective Data-Driven ...</td>\n",
       "      <td>https://www.eventbrite.com/e/webinar-how-to-be...</td>\n",
       "      <td>https://assets.productschool.com/wp-content/up...</td>\n",
       "      <td>['Emile Saad', 'Thursday, June 18th, 2020', '2...</td>\n",
       "    </tr>\n",
       "    <tr>\n",
       "      <th>3</th>\n",
       "      <td>Webinar: Driving AI Incubations as a PM by Zil...</td>\n",
       "      <td>https://www.eventbrite.com/e/webinar-driving-a...</td>\n",
       "      <td>https://assets.productschool.com/wp-content/up...</td>\n",
       "      <td>['Debapriya Basu', 'Friday, June 19th, 2020', ...</td>\n",
       "    </tr>\n",
       "    <tr>\n",
       "      <th>4</th>\n",
       "      <td>Webinar: Taking Care of your Product by HubSpo...</td>\n",
       "      <td>https://www.eventbrite.com/e/webinar-taking-ca...</td>\n",
       "      <td>https://assets.productschool.com/wp-content/up...</td>\n",
       "      <td>['Klajdi Turlla', 'Friday, June 19th, 2020', '...</td>\n",
       "    </tr>\n",
       "    <tr>\n",
       "      <th>...</th>\n",
       "      <td>...</td>\n",
       "      <td>...</td>\n",
       "      <td>...</td>\n",
       "      <td>...</td>\n",
       "    </tr>\n",
       "    <tr>\n",
       "      <th>93</th>\n",
       "      <td>Product Management Live Chat by fmr Northweste...</td>\n",
       "      <td>https://www.eventbrite.com/e/product-managemen...</td>\n",
       "      <td>https://assets.productschool.com/wp-content/up...</td>\n",
       "      <td>['Vivek Bedi', 'Thursday, August 20th, 2020', ...</td>\n",
       "    </tr>\n",
       "    <tr>\n",
       "      <th>94</th>\n",
       "      <td>Product Management Live Chat by Airbnb PM</td>\n",
       "      <td>https://www.eventbrite.com/e/product-managemen...</td>\n",
       "      <td>https://www.productschool.com/wp-content/theme...</td>\n",
       "      <td>['Azad Zahoory', 'Tuesday, August 25th, 2020',...</td>\n",
       "    </tr>\n",
       "    <tr>\n",
       "      <th>95</th>\n",
       "      <td>Product Management Live Chat by Drift Director...</td>\n",
       "      <td>https://www.eventbrite.com/e/product-managemen...</td>\n",
       "      <td>https://assets.productschool.com/wp-content/up...</td>\n",
       "      <td>['Maggie Crowley', 'Thursday, August 27th, 202...</td>\n",
       "    </tr>\n",
       "    <tr>\n",
       "      <th>96</th>\n",
       "      <td>Product Management Live Chat by Google Product...</td>\n",
       "      <td>https://www.eventbrite.com/e/product-managemen...</td>\n",
       "      <td>https://assets.productschool.com/wp-content/up...</td>\n",
       "      <td>['Tyson Mao', 'Tuesday, September 1st, 2020', ...</td>\n",
       "    </tr>\n",
       "    <tr>\n",
       "      <th>97</th>\n",
       "      <td>Product Management Live Chat by Salesforce Sr ...</td>\n",
       "      <td>https://www.eventbrite.com/e/product-managemen...</td>\n",
       "      <td>https://assets.productschool.com/wp-content/up...</td>\n",
       "      <td>['Divya Ashhok', 'Tuesday, September 8th, 2020...</td>\n",
       "    </tr>\n",
       "  </tbody>\n",
       "</table>\n",
       "<p>98 rows × 4 columns</p>\n",
       "</div>"
      ],
      "text/plain": [
       "                                                Title  \\\n",
       "0      Product Management Live Chat by Booking.com PM   \n",
       "1   Webinar: Building Great Relationships With You...   \n",
       "2   Webinar: How to be More Effective Data-Driven ...   \n",
       "3   Webinar: Driving AI Incubations as a PM by Zil...   \n",
       "4   Webinar: Taking Care of your Product by HubSpo...   \n",
       "..                                                ...   \n",
       "93  Product Management Live Chat by fmr Northweste...   \n",
       "94          Product Management Live Chat by Airbnb PM   \n",
       "95  Product Management Live Chat by Drift Director...   \n",
       "96  Product Management Live Chat by Google Product...   \n",
       "97  Product Management Live Chat by Salesforce Sr ...   \n",
       "\n",
       "                                                 Link  \\\n",
       "0   https://www.eventbrite.com/e/product-managemen...   \n",
       "1   https://www.eventbrite.com/e/webinar-building-...   \n",
       "2   https://www.eventbrite.com/e/webinar-how-to-be...   \n",
       "3   https://www.eventbrite.com/e/webinar-driving-a...   \n",
       "4   https://www.eventbrite.com/e/webinar-taking-ca...   \n",
       "..                                                ...   \n",
       "93  https://www.eventbrite.com/e/product-managemen...   \n",
       "94  https://www.eventbrite.com/e/product-managemen...   \n",
       "95  https://www.eventbrite.com/e/product-managemen...   \n",
       "96  https://www.eventbrite.com/e/product-managemen...   \n",
       "97  https://www.eventbrite.com/e/product-managemen...   \n",
       "\n",
       "                                                Image  \\\n",
       "0   https://assets.productschool.com/wp-content/up...   \n",
       "1   https://assets.productschool.com/wp-content/up...   \n",
       "2   https://assets.productschool.com/wp-content/up...   \n",
       "3   https://assets.productschool.com/wp-content/up...   \n",
       "4   https://assets.productschool.com/wp-content/up...   \n",
       "..                                                ...   \n",
       "93  https://assets.productschool.com/wp-content/up...   \n",
       "94  https://www.productschool.com/wp-content/theme...   \n",
       "95  https://assets.productschool.com/wp-content/up...   \n",
       "96  https://assets.productschool.com/wp-content/up...   \n",
       "97  https://assets.productschool.com/wp-content/up...   \n",
       "\n",
       "                                          Description  \n",
       "0   ['Allen Foster Pushparaj', 'Thursday, June 18t...  \n",
       "1   ['Jean-Pierre Pequito', 'Thursday, June 18th, ...  \n",
       "2   ['Emile Saad', 'Thursday, June 18th, 2020', '2...  \n",
       "3   ['Debapriya Basu', 'Friday, June 19th, 2020', ...  \n",
       "4   ['Klajdi Turlla', 'Friday, June 19th, 2020', '...  \n",
       "..                                                ...  \n",
       "93  ['Vivek Bedi', 'Thursday, August 20th, 2020', ...  \n",
       "94  ['Azad Zahoory', 'Tuesday, August 25th, 2020',...  \n",
       "95  ['Maggie Crowley', 'Thursday, August 27th, 202...  \n",
       "96  ['Tyson Mao', 'Tuesday, September 1st, 2020', ...  \n",
       "97  ['Divya Ashhok', 'Tuesday, September 8th, 2020...  \n",
       "\n",
       "[98 rows x 4 columns]"
      ]
     },
     "execution_count": 2,
     "metadata": {},
     "output_type": "execute_result"
    }
   ],
   "source": [
    "data_df = pd.read_csv('data.csv')\n",
    "data_df = data_df.drop(columns = 'Unnamed: 0')\n",
    "data_df"
   ]
  },
  {
   "cell_type": "markdown",
   "metadata": {},
   "source": [
    "## Clean Columns"
   ]
  },
  {
   "cell_type": "code",
   "execution_count": 3,
   "metadata": {},
   "outputs": [],
   "source": [
    "# Remove Webinar word\n",
    "data_df['Title'] = data_df.Title.str.replace('Webinar: ', '')"
   ]
  },
  {
   "cell_type": "code",
   "execution_count": 4,
   "metadata": {},
   "outputs": [],
   "source": [
    "# get Datatype of Description and extract all the details.\n",
    "data_df['Description'] = pd.eval(data_df['Description'])\n",
    "data_df[[\"Author\", \"Date\", \"time\", \"medium\"]] = data_df.Description.apply(pd.Series)\n",
    "data_df = data_df.drop(columns = \"Description\")"
   ]
  },
  {
   "cell_type": "markdown",
   "metadata": {},
   "source": [
    "### Preprocess times and timezones"
   ]
  },
  {
   "cell_type": "code",
   "execution_count": 5,
   "metadata": {},
   "outputs": [],
   "source": [
    "# Get start time, end time and timezone.\n",
    "data_df[['start_time', 'end_time']] = data_df['time'].str.split(' - ', expand=True)\n",
    "data_df[['end_time', 'time_zone']] = data_df['end_time'].str.rstrip().str.split(' ', expand=True)\n",
    "data_df.time_zone = data_df.time_zone.fillna(\"time_zone_not_filled\") #Fill in information which can be used downstream.\n",
    "\n",
    "data_df = data_df.drop(columns = \"time\")"
   ]
  },
  {
   "cell_type": "code",
   "execution_count": 6,
   "metadata": {},
   "outputs": [],
   "source": [
    "try:\n",
    "    data_df['time_zone'] = data_df['time_zone'].apply(lambda x: x.replace('(','').replace(')','')) \n",
    "except AttributeError as err:\n",
    "    print(\"ATTRIBUTE ERROR:\"+ str(err))"
   ]
  },
  {
   "cell_type": "code",
   "execution_count": 7,
   "metadata": {},
   "outputs": [],
   "source": [
    "# This may not be required but doing as of now.\n",
    "def convert_to_24hours(time):\n",
    "    try:\n",
    "        time24 = datetime.strptime(time, '%I:%M%p')\n",
    "        return datetime.strftime(time24, \"%H:%M\")\n",
    "    except ValueError as err:\n",
    "        print(\"VALUEERROR:\" + str(err))\n",
    "    except TypeError as err:\n",
    "        print(\"TYPEERROR:\" + str(err))\n",
    "    "
   ]
  },
  {
   "cell_type": "code",
   "execution_count": 8,
   "metadata": {},
   "outputs": [
    {
     "name": "stdout",
     "output_type": "stream",
     "text": [
      "VALUEERROR:time data 'Online' does not match format '%I:%M%p'\n",
      "VALUEERROR:time data 'Online' does not match format '%I:%M%p'\n"
     ]
    }
   ],
   "source": [
    "data_df['start_time'] = data_df['start_time'].apply(convert_to_24hours)"
   ]
  },
  {
   "cell_type": "code",
   "execution_count": 9,
   "metadata": {},
   "outputs": [
    {
     "name": "stdout",
     "output_type": "stream",
     "text": [
      "TYPEERROR:strptime() argument 1 must be str, not None\n",
      "TYPEERROR:strptime() argument 1 must be str, not None\n"
     ]
    }
   ],
   "source": [
    "data_df['end_time'] = data_df['end_time'].apply(convert_to_24hours)"
   ]
  },
  {
   "cell_type": "code",
   "execution_count": 10,
   "metadata": {},
   "outputs": [],
   "source": [
    "data_df[['dow', 'date', 'year']] = data_df.Date.str.split(',', expand=True)"
   ]
  },
  {
   "cell_type": "code",
   "execution_count": 11,
   "metadata": {},
   "outputs": [],
   "source": [
    "data_df['date'] = data_df['date'].str[0:-2]"
   ]
  },
  {
   "cell_type": "code",
   "execution_count": 12,
   "metadata": {},
   "outputs": [],
   "source": [
    "data_df['start_time'] = data_df['date'] + \" \" + data_df['year'] + \" \" + data_df['start_time']"
   ]
  },
  {
   "cell_type": "code",
   "execution_count": 13,
   "metadata": {},
   "outputs": [],
   "source": [
    "data_df['end_time'] = data_df['date'] + \" \" + data_df['year'] + \" \" + data_df['end_time']"
   ]
  },
  {
   "cell_type": "code",
   "execution_count": 14,
   "metadata": {},
   "outputs": [],
   "source": [
    "\n",
    "def get_in_ist_timezone(row, col=\"start_time\"):\n",
    "    start_time = row[col]\n",
    "    time_zone = row['time_zone']\n",
    "    try:\n",
    "        tz = None\n",
    "        # Depending on the new timezones, you will have to add more conditions.\n",
    "        # Refer to this link: https://gist.github.com/heyalexej/8bf688fd67d7199be4a1682b3eec7568\n",
    "        # for all the timezones available.\n",
    "        if time_zone == 'PT': \n",
    "            tz = pytz.timezone('US/Pacific') \n",
    "        start_time = start_time.rstrip()\n",
    "        start_time = start_time.lstrip()\n",
    "        start_time = start_time.replace('  ', ' ')\n",
    "        start_time = datetime.strptime(start_time, '%B %d %Y %H:%M')\n",
    "        start_time = tz.localize(start_time)\n",
    "        return start_time.astimezone(pytz.timezone('Asia/Calcutta'))\n",
    "    except Exception as err:\n",
    "        print(str(err))\n",
    "        return None"
   ]
  },
  {
   "cell_type": "code",
   "execution_count": 15,
   "metadata": {
    "scrolled": true
   },
   "outputs": [
    {
     "name": "stdout",
     "output_type": "stream",
     "text": [
      "'float' object has no attribute 'rstrip'\n",
      "'float' object has no attribute 'rstrip'\n",
      "'NoneType' object has no attribute 'localize'\n",
      "'float' object has no attribute 'rstrip'\n",
      "'float' object has no attribute 'rstrip'\n",
      "'NoneType' object has no attribute 'localize'\n"
     ]
    }
   ],
   "source": [
    "data_df['start_time_ist'] = data_df.apply(get_in_ist_timezone, col='start_time', axis=1)\n",
    "data_df['end_time_ist'] = data_df.apply(get_in_ist_timezone, col='end_time', axis=1)"
   ]
  },
  {
   "cell_type": "code",
   "execution_count": 16,
   "metadata": {},
   "outputs": [],
   "source": [
    "data_df['event_duration'] = data_df['end_time_ist'] - data_df['start_time_ist']"
   ]
  },
  {
   "cell_type": "markdown",
   "metadata": {},
   "source": [
    "## Produce the required columns"
   ]
  },
  {
   "cell_type": "code",
   "execution_count": 17,
   "metadata": {
    "scrolled": true
   },
   "outputs": [],
   "source": [
    "data_df = data_df.rename(\n",
    "    columns = {\n",
    "        \"Title\":\"Topic of the webinar\",\n",
    "        \"Link\": \"Link of the webinar\",\n",
    "    }\n",
    ")"
   ]
  },
  {
   "cell_type": "code",
   "execution_count": 18,
   "metadata": {},
   "outputs": [],
   "source": [
    "data_df['Date (DD-Mon-YY)'] = data_df.start_time_ist.dt.strftime(\"%d-%b-%Y\")"
   ]
  },
  {
   "cell_type": "code",
   "execution_count": 19,
   "metadata": {},
   "outputs": [],
   "source": [
    "data_df['Start Time (hh:mm AM/PM)'] = data_df.start_time_ist.dt.strftime(\"%I:%M %p\")"
   ]
  },
  {
   "cell_type": "code",
   "execution_count": 20,
   "metadata": {},
   "outputs": [],
   "source": [
    "data_df['End  Time (hh:mm AM/PM)'] = data_df.end_time_ist.dt.strftime(\"%I:%M %p\")"
   ]
  },
  {
   "cell_type": "code",
   "execution_count": 21,
   "metadata": {},
   "outputs": [],
   "source": [
    "data_df['Duration (in min)'] =  ((data_df['end_time_ist'] -\n",
    "                                      data_df['start_time_ist'])\n",
    "                                     .astype('timedelta64[m]'))\n",
    "\n",
    "data_df['Duration (in min)'] = data_df['Duration (in min)'].astype('str').str[0:-2] + ' min'"
   ]
  },
  {
   "cell_type": "code",
   "execution_count": 22,
   "metadata": {},
   "outputs": [],
   "source": [
    "data_df[\"Organising Body\"] = None"
   ]
  },
  {
   "cell_type": "code",
   "execution_count": 23,
   "metadata": {},
   "outputs": [],
   "source": [
    "data_df[\"Theme\"] = None"
   ]
  },
  {
   "cell_type": "code",
   "execution_count": 24,
   "metadata": {},
   "outputs": [],
   "source": [
    "select_cols = [\"Topic of the webinar\",\n",
    "\"Date (DD-Mon-YY)\",\n",
    "\"Start Time (hh:mm AM/PM)\",\n",
    "\"End  Time (hh:mm AM/PM)\",\n",
    "\"Duration (in min)\",\n",
    "\"Organising Body\",\n",
    "\"Theme\",\n",
    "\"Link of the webinar\",\n",
    "\"Image\",\n",
    "# \"Key Take aways / Agenda\",\n",
    "# \"Platform\",\n",
    "# \"Price (Free/Paid)\",\n",
    "# \"How did you hear about this event?\",\n",
    "# \"Your Name\",\n",
    "# \"Comments and/or questions\",\n",
    "# \"Email Address\",\n",
    "# \"Max Number of participants?\",\n",
    "# \"Timestamp\"\n",
    "              ]"
   ]
  },
  {
   "cell_type": "code",
   "execution_count": 25,
   "metadata": {},
   "outputs": [
    {
     "data": {
      "text/html": [
       "<div>\n",
       "<style scoped>\n",
       "    .dataframe tbody tr th:only-of-type {\n",
       "        vertical-align: middle;\n",
       "    }\n",
       "\n",
       "    .dataframe tbody tr th {\n",
       "        vertical-align: top;\n",
       "    }\n",
       "\n",
       "    .dataframe thead th {\n",
       "        text-align: right;\n",
       "    }\n",
       "</style>\n",
       "<table border=\"1\" class=\"dataframe\">\n",
       "  <thead>\n",
       "    <tr style=\"text-align: right;\">\n",
       "      <th></th>\n",
       "      <th>Topic of the webinar</th>\n",
       "      <th>Date (DD-Mon-YY)</th>\n",
       "      <th>Start Time (hh:mm AM/PM)</th>\n",
       "      <th>End  Time (hh:mm AM/PM)</th>\n",
       "      <th>Duration (in min)</th>\n",
       "      <th>Organising Body</th>\n",
       "      <th>Theme</th>\n",
       "      <th>Link of the webinar</th>\n",
       "      <th>Image</th>\n",
       "    </tr>\n",
       "  </thead>\n",
       "  <tbody>\n",
       "    <tr>\n",
       "      <th>0</th>\n",
       "      <td>Product Management Live Chat by Booking.com PM</td>\n",
       "      <td>18-Jun-2020</td>\n",
       "      <td>11:00 PM</td>\n",
       "      <td>11:30 PM</td>\n",
       "      <td>30 min</td>\n",
       "      <td>None</td>\n",
       "      <td>None</td>\n",
       "      <td>https://www.eventbrite.com/e/product-managemen...</td>\n",
       "      <td>https://assets.productschool.com/wp-content/up...</td>\n",
       "    </tr>\n",
       "    <tr>\n",
       "      <th>1</th>\n",
       "      <td>Building Great Relationships With Your Team by...</td>\n",
       "      <td>19-Jun-2020</td>\n",
       "      <td>12:00 AM</td>\n",
       "      <td>12:30 AM</td>\n",
       "      <td>30 min</td>\n",
       "      <td>None</td>\n",
       "      <td>None</td>\n",
       "      <td>https://www.eventbrite.com/e/webinar-building-...</td>\n",
       "      <td>https://assets.productschool.com/wp-content/up...</td>\n",
       "    </tr>\n",
       "    <tr>\n",
       "      <th>2</th>\n",
       "      <td>How to be More Effective Data-Driven PM by fmr...</td>\n",
       "      <td>19-Jun-2020</td>\n",
       "      <td>02:30 AM</td>\n",
       "      <td>03:00 AM</td>\n",
       "      <td>30 min</td>\n",
       "      <td>None</td>\n",
       "      <td>None</td>\n",
       "      <td>https://www.eventbrite.com/e/webinar-how-to-be...</td>\n",
       "      <td>https://assets.productschool.com/wp-content/up...</td>\n",
       "    </tr>\n",
       "    <tr>\n",
       "      <th>3</th>\n",
       "      <td>Driving AI Incubations as a PM by Zillow Princ...</td>\n",
       "      <td>20-Jun-2020</td>\n",
       "      <td>12:00 AM</td>\n",
       "      <td>12:30 AM</td>\n",
       "      <td>30 min</td>\n",
       "      <td>None</td>\n",
       "      <td>None</td>\n",
       "      <td>https://www.eventbrite.com/e/webinar-driving-a...</td>\n",
       "      <td>https://assets.productschool.com/wp-content/up...</td>\n",
       "    </tr>\n",
       "    <tr>\n",
       "      <th>4</th>\n",
       "      <td>Taking Care of your Product by HubSpot PM</td>\n",
       "      <td>20-Jun-2020</td>\n",
       "      <td>02:30 AM</td>\n",
       "      <td>03:00 AM</td>\n",
       "      <td>30 min</td>\n",
       "      <td>None</td>\n",
       "      <td>None</td>\n",
       "      <td>https://www.eventbrite.com/e/webinar-taking-ca...</td>\n",
       "      <td>https://assets.productschool.com/wp-content/up...</td>\n",
       "    </tr>\n",
       "    <tr>\n",
       "      <th>...</th>\n",
       "      <td>...</td>\n",
       "      <td>...</td>\n",
       "      <td>...</td>\n",
       "      <td>...</td>\n",
       "      <td>...</td>\n",
       "      <td>...</td>\n",
       "      <td>...</td>\n",
       "      <td>...</td>\n",
       "      <td>...</td>\n",
       "    </tr>\n",
       "    <tr>\n",
       "      <th>93</th>\n",
       "      <td>Product Management Live Chat by fmr Northweste...</td>\n",
       "      <td>20-Aug-2020</td>\n",
       "      <td>11:00 PM</td>\n",
       "      <td>11:30 PM</td>\n",
       "      <td>30 min</td>\n",
       "      <td>None</td>\n",
       "      <td>None</td>\n",
       "      <td>https://www.eventbrite.com/e/product-managemen...</td>\n",
       "      <td>https://assets.productschool.com/wp-content/up...</td>\n",
       "    </tr>\n",
       "    <tr>\n",
       "      <th>94</th>\n",
       "      <td>Product Management Live Chat by Airbnb PM</td>\n",
       "      <td>25-Aug-2020</td>\n",
       "      <td>11:00 PM</td>\n",
       "      <td>11:30 PM</td>\n",
       "      <td>30 min</td>\n",
       "      <td>None</td>\n",
       "      <td>None</td>\n",
       "      <td>https://www.eventbrite.com/e/product-managemen...</td>\n",
       "      <td>https://www.productschool.com/wp-content/theme...</td>\n",
       "    </tr>\n",
       "    <tr>\n",
       "      <th>95</th>\n",
       "      <td>Product Management Live Chat by Drift Director...</td>\n",
       "      <td>27-Aug-2020</td>\n",
       "      <td>11:00 PM</td>\n",
       "      <td>11:30 PM</td>\n",
       "      <td>30 min</td>\n",
       "      <td>None</td>\n",
       "      <td>None</td>\n",
       "      <td>https://www.eventbrite.com/e/product-managemen...</td>\n",
       "      <td>https://assets.productschool.com/wp-content/up...</td>\n",
       "    </tr>\n",
       "    <tr>\n",
       "      <th>96</th>\n",
       "      <td>Product Management Live Chat by Google Product...</td>\n",
       "      <td>01-Sep-2020</td>\n",
       "      <td>11:00 PM</td>\n",
       "      <td>11:30 PM</td>\n",
       "      <td>30 min</td>\n",
       "      <td>None</td>\n",
       "      <td>None</td>\n",
       "      <td>https://www.eventbrite.com/e/product-managemen...</td>\n",
       "      <td>https://assets.productschool.com/wp-content/up...</td>\n",
       "    </tr>\n",
       "    <tr>\n",
       "      <th>97</th>\n",
       "      <td>Product Management Live Chat by Salesforce Sr ...</td>\n",
       "      <td>08-Sep-2020</td>\n",
       "      <td>11:00 PM</td>\n",
       "      <td>11:30 PM</td>\n",
       "      <td>30 min</td>\n",
       "      <td>None</td>\n",
       "      <td>None</td>\n",
       "      <td>https://www.eventbrite.com/e/product-managemen...</td>\n",
       "      <td>https://assets.productschool.com/wp-content/up...</td>\n",
       "    </tr>\n",
       "  </tbody>\n",
       "</table>\n",
       "<p>98 rows × 9 columns</p>\n",
       "</div>"
      ],
      "text/plain": [
       "                                 Topic of the webinar Date (DD-Mon-YY)  \\\n",
       "0      Product Management Live Chat by Booking.com PM      18-Jun-2020   \n",
       "1   Building Great Relationships With Your Team by...      19-Jun-2020   \n",
       "2   How to be More Effective Data-Driven PM by fmr...      19-Jun-2020   \n",
       "3   Driving AI Incubations as a PM by Zillow Princ...      20-Jun-2020   \n",
       "4           Taking Care of your Product by HubSpot PM      20-Jun-2020   \n",
       "..                                                ...              ...   \n",
       "93  Product Management Live Chat by fmr Northweste...      20-Aug-2020   \n",
       "94          Product Management Live Chat by Airbnb PM      25-Aug-2020   \n",
       "95  Product Management Live Chat by Drift Director...      27-Aug-2020   \n",
       "96  Product Management Live Chat by Google Product...      01-Sep-2020   \n",
       "97  Product Management Live Chat by Salesforce Sr ...      08-Sep-2020   \n",
       "\n",
       "   Start Time (hh:mm AM/PM) End  Time (hh:mm AM/PM) Duration (in min)  \\\n",
       "0                  11:00 PM                11:30 PM            30 min   \n",
       "1                  12:00 AM                12:30 AM            30 min   \n",
       "2                  02:30 AM                03:00 AM            30 min   \n",
       "3                  12:00 AM                12:30 AM            30 min   \n",
       "4                  02:30 AM                03:00 AM            30 min   \n",
       "..                      ...                     ...               ...   \n",
       "93                 11:00 PM                11:30 PM            30 min   \n",
       "94                 11:00 PM                11:30 PM            30 min   \n",
       "95                 11:00 PM                11:30 PM            30 min   \n",
       "96                 11:00 PM                11:30 PM            30 min   \n",
       "97                 11:00 PM                11:30 PM            30 min   \n",
       "\n",
       "   Organising Body Theme                                Link of the webinar  \\\n",
       "0             None  None  https://www.eventbrite.com/e/product-managemen...   \n",
       "1             None  None  https://www.eventbrite.com/e/webinar-building-...   \n",
       "2             None  None  https://www.eventbrite.com/e/webinar-how-to-be...   \n",
       "3             None  None  https://www.eventbrite.com/e/webinar-driving-a...   \n",
       "4             None  None  https://www.eventbrite.com/e/webinar-taking-ca...   \n",
       "..             ...   ...                                                ...   \n",
       "93            None  None  https://www.eventbrite.com/e/product-managemen...   \n",
       "94            None  None  https://www.eventbrite.com/e/product-managemen...   \n",
       "95            None  None  https://www.eventbrite.com/e/product-managemen...   \n",
       "96            None  None  https://www.eventbrite.com/e/product-managemen...   \n",
       "97            None  None  https://www.eventbrite.com/e/product-managemen...   \n",
       "\n",
       "                                                Image  \n",
       "0   https://assets.productschool.com/wp-content/up...  \n",
       "1   https://assets.productschool.com/wp-content/up...  \n",
       "2   https://assets.productschool.com/wp-content/up...  \n",
       "3   https://assets.productschool.com/wp-content/up...  \n",
       "4   https://assets.productschool.com/wp-content/up...  \n",
       "..                                                ...  \n",
       "93  https://assets.productschool.com/wp-content/up...  \n",
       "94  https://www.productschool.com/wp-content/theme...  \n",
       "95  https://assets.productschool.com/wp-content/up...  \n",
       "96  https://assets.productschool.com/wp-content/up...  \n",
       "97  https://assets.productschool.com/wp-content/up...  \n",
       "\n",
       "[98 rows x 9 columns]"
      ]
     },
     "execution_count": 25,
     "metadata": {},
     "output_type": "execute_result"
    }
   ],
   "source": [
    "data_df[select_cols]"
   ]
  },
  {
   "cell_type": "code",
   "execution_count": null,
   "metadata": {},
   "outputs": [],
   "source": []
  }
 ],
 "metadata": {
  "kernelspec": {
   "display_name": "wow",
   "language": "python",
   "name": "wow"
  },
  "language_info": {
   "codemirror_mode": {
    "name": "ipython",
    "version": 3
   },
   "file_extension": ".py",
   "mimetype": "text/x-python",
   "name": "python",
   "nbconvert_exporter": "python",
   "pygments_lexer": "ipython3",
   "version": "3.7.7"
  }
 },
 "nbformat": 4,
 "nbformat_minor": 4
}
